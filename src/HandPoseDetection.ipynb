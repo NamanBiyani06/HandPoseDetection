{
 "cells": [
  {
   "cell_type": "markdown",
   "id": "a47781be",
   "metadata": {},
   "source": [
    "#### Installing Dependencies"
   ]
  },
  {
   "cell_type": "code",
   "execution_count": 32,
   "id": "811215ae",
   "metadata": {
    "scrolled": true
   },
   "outputs": [
    {
     "name": "stdout",
     "output_type": "stream",
     "text": [
      "Requirement already satisfied: mediapipe in /Library/Frameworks/Python.framework/Versions/3.9/lib/python3.9/site-packages (0.8.10.1)\n",
      "Requirement already satisfied: opencv-python in /Library/Frameworks/Python.framework/Versions/3.9/lib/python3.9/site-packages (4.6.0.66)\n",
      "Requirement already satisfied: matplotlib in /Library/Frameworks/Python.framework/Versions/3.9/lib/python3.9/site-packages (from mediapipe) (3.5.3)\n",
      "Requirement already satisfied: numpy in /Library/Frameworks/Python.framework/Versions/3.9/lib/python3.9/site-packages (from mediapipe) (1.23.1)\n",
      "Requirement already satisfied: opencv-contrib-python in /Library/Frameworks/Python.framework/Versions/3.9/lib/python3.9/site-packages (from mediapipe) (4.6.0.66)\n",
      "Requirement already satisfied: protobuf<4,>=3.11 in /Library/Frameworks/Python.framework/Versions/3.9/lib/python3.9/site-packages (from mediapipe) (3.20.1)\n",
      "Requirement already satisfied: attrs>=19.1.0 in /Library/Frameworks/Python.framework/Versions/3.9/lib/python3.9/site-packages (from mediapipe) (22.1.0)\n",
      "Requirement already satisfied: absl-py in /Library/Frameworks/Python.framework/Versions/3.9/lib/python3.9/site-packages (from mediapipe) (1.2.0)\n",
      "Requirement already satisfied: kiwisolver>=1.0.1 in /Library/Frameworks/Python.framework/Versions/3.9/lib/python3.9/site-packages (from matplotlib->mediapipe) (1.4.4)\n",
      "Requirement already satisfied: python-dateutil>=2.7 in /Library/Frameworks/Python.framework/Versions/3.9/lib/python3.9/site-packages (from matplotlib->mediapipe) (2.8.2)\n",
      "Requirement already satisfied: packaging>=20.0 in /Library/Frameworks/Python.framework/Versions/3.9/lib/python3.9/site-packages (from matplotlib->mediapipe) (21.3)\n",
      "Requirement already satisfied: pillow>=6.2.0 in /Library/Frameworks/Python.framework/Versions/3.9/lib/python3.9/site-packages (from matplotlib->mediapipe) (9.2.0)\n",
      "Requirement already satisfied: cycler>=0.10 in /Library/Frameworks/Python.framework/Versions/3.9/lib/python3.9/site-packages (from matplotlib->mediapipe) (0.11.0)\n",
      "Requirement already satisfied: fonttools>=4.22.0 in /Library/Frameworks/Python.framework/Versions/3.9/lib/python3.9/site-packages (from matplotlib->mediapipe) (4.34.4)\n",
      "Requirement already satisfied: pyparsing>=2.2.1 in /Library/Frameworks/Python.framework/Versions/3.9/lib/python3.9/site-packages (from matplotlib->mediapipe) (3.0.9)\n",
      "Requirement already satisfied: six>=1.5 in /Library/Frameworks/Python.framework/Versions/3.9/lib/python3.9/site-packages (from python-dateutil>=2.7->matplotlib->mediapipe) (1.16.0)\n",
      "Note: you may need to restart the kernel to use updated packages.\n"
     ]
    }
   ],
   "source": [
    "#importing dependencies\n",
    "%pip install mediapipe opencv-python"
   ]
  },
  {
   "cell_type": "markdown",
   "id": "a984e570",
   "metadata": {},
   "source": [
    "#### Imports"
   ]
  },
  {
   "cell_type": "code",
   "execution_count": 33,
   "id": "52446cce",
   "metadata": {},
   "outputs": [],
   "source": [
    "import mediapipe as mp\n",
    "import cv2\n",
    "import numpy as np\n",
    "import uuid\n",
    "import os\n",
    "import time"
   ]
  },
  {
   "cell_type": "markdown",
   "id": "696daca8",
   "metadata": {},
   "source": [
    "#### Mediapipe hand model initialization"
   ]
  },
  {
   "cell_type": "code",
   "execution_count": 34,
   "id": "fb035941",
   "metadata": {},
   "outputs": [],
   "source": [
    "#Draws line segments\n",
    "mp_drawing = mp.solutions.drawing_utils\n",
    "#mp hands model\n",
    "mp_hands = mp.solutions.hands"
   ]
  },
  {
   "cell_type": "markdown",
   "id": "5bf56a29",
   "metadata": {},
   "source": [
    "#### Note - Remember to insert landmarks.png into markdown here for reference"
   ]
  },
  {
   "cell_type": "markdown",
   "id": "e82e906e",
   "metadata": {},
   "source": [
    "![alt text] (https://github.com/NamanBiyani06/HandPoseDetection/blob/main/images/hand_landmarks.png?raw=true)"
   ]
  },
  {
   "cell_type": "markdown",
   "id": "c28a3ef8",
   "metadata": {},
   "source": [
    "#### Associating each landmark with its index"
   ]
  },
  {
   "cell_type": "code",
   "execution_count": 35,
   "id": "94ea71fb",
   "metadata": {},
   "outputs": [],
   "source": [
    "WRIST = 0\n",
    "THUMB_CMC = 1\n",
    "THUMB_MCP = 2\n",
    "THUMB_IP = 3\n",
    "THUMB_TIP = 4\n",
    "INDEX_FINGER_MCP = 5\n",
    "INDEX_FINGER_PIP = 6\n",
    "INDEX_FINGER_TIP = 8\n",
    "MIDDLE_FINGER_MCP = 9\n",
    "MIDDLE_FINGER_PIP = 10\n",
    "MIDDLE_FINGER_TIP = 12\n",
    "RING_FINGER_MCP = 13\n",
    "RING_FINGER_PIP = 14\n",
    "RING_FINGER_TIP = 16\n",
    "PINKY_MCP = 17\n",
    "PINKY_PIP = 18\n",
    "PINKY_TIP = 20"
   ]
  },
  {
   "cell_type": "markdown",
   "id": "a29789fb",
   "metadata": {},
   "source": [
    "#### Functions to dectect when a hand gesture is performed"
   ]
  },
  {
   "cell_type": "markdown",
   "id": "36e90b44",
   "metadata": {},
   "source": [
    "##### Functions return gesture name depending if joint positions match the generalized positions of the specific gesture"
   ]
  },
  {
   "cell_type": "code",
   "execution_count": 36,
   "id": "82e4800d",
   "metadata": {},
   "outputs": [],
   "source": [
    "# Is the model performing a fist\n",
    "def fist_gesture(points):\n",
    "    if points[MIDDLE_FINGER_MCP].y < points[MIDDLE_FINGER_TIP].y \\\n",
    "    and points[PINKY_MCP].y < points[PINKY_TIP].y \\\n",
    "    and points[RING_FINGER_MCP].y < points[RING_FINGER_TIP].y:\n",
    "        return \"Fist\"\n"
   ]
  },
  {
   "cell_type": "markdown",
   "id": "4d036788",
   "metadata": {},
   "source": [
    "#### Opening a Computer Vision window and creating a loop to update the model each frame"
   ]
  },
  {
   "cell_type": "code",
   "execution_count": 37,
   "id": "589b07dc",
   "metadata": {
    "scrolled": true
   },
   "outputs": [],
   "source": [
    "#getting webcam feed #0\n",
    "cap = cv2.VideoCapture(0)\n",
    "\n",
    "cv2.startWindowThread()\n",
    "\n",
    "#initializing gesture to prevent errors\n",
    "gesture = \"init\"\n",
    "\n",
    "#declaring following as \"hands\"\n",
    "#detection threshold for intitial detection to be successful\n",
    "#tracking threshold for tracking after initial detection\n",
    "with mp_hands.Hands(min_detection_confidence = 0.8, min_tracking_confidence = 0.5) as hands:\n",
    "    #reading through each frame\n",
    "    while cap.isOpened():\n",
    "        ret,frame = cap.read()\n",
    "\n",
    "        #detections\n",
    "        #recolours from BGR to RGB\n",
    "        #passes in frame, outputs image and RGB\n",
    "        image = cv2.cvtColor(frame, cv2.COLOR_BGR2RGB)\n",
    "        \n",
    "        #image is flipped on the horizontal\n",
    "        image = cv2.flip(image, 1)\n",
    "\n",
    "        image.flags.writeable = False\n",
    "        #detections\n",
    "        results = hands.process(image)\n",
    "        image.flags.writeable = True\n",
    "        #RGB to BGR\n",
    "        image = cv2.cvtColor(image, cv2.COLOR_RGB2BGR)\n",
    "\n",
    "        #checking if we have results\n",
    "        if results.multi_hand_landmarks:\n",
    "            #putting landmarks into landmarks\n",
    "            for landmark in results.multi_hand_landmarks:\n",
    "                landmarks = landmark.landmark\n",
    "            for num, hand in enumerate(results.multi_hand_landmarks):\n",
    "                mp_drawing.draw_landmarks(image, hand, mp_hands.HAND_CONNECTIONS, mp_drawing.DrawingSpec(color=(121, 22, 76), thickness=2, circle_radius = 4), mp_drawing.DrawingSpec(color=(121, 44, 250), thickness=2, circle_radius=2))\n",
    "\n",
    "            \n",
    "            #Obtaining current gesture\n",
    "            if fist_gesture(landmarks):\n",
    "                gesture = fist_gesture(landmarks)\n",
    "            else:\n",
    "                gesture = \"NULL\"\n",
    "\n",
    "        \n",
    "        # font used while displaying text\n",
    "        font = cv2.FONT_HERSHEY_SIMPLEX\n",
    "        # putting the current gesture on the window\n",
    "        cv2.putText(image, gesture, (7, 70), font, 3, (100, 255, 0), 3, cv2.LINE_AA)\n",
    "\n",
    "        cv2.imshow('Hand Tracking', image)\n",
    "        cv2.setWindowProperty('Hand Tracking', cv2.WND_PROP_TOPMOST, 1)\n",
    "\n",
    "        \n",
    "\n",
    "        #close window if q is pressed\n",
    "        if cv2.waitKey(10) & 0xff == ord('q'):\n",
    "            cv2.waitKey(1)\n",
    "            cv2.destroyAllWindows()\n",
    "            cv2.waitKey(1)\n",
    "            break\n",
    "\n",
    "cv2.destroyAllWindows()\n",
    "cap.release()\n",
    "\n"
   ]
  }
 ],
 "metadata": {
  "kernelspec": {
   "display_name": "Python 3.9.1 64-bit",
   "language": "python",
   "name": "python3"
  },
  "language_info": {
   "codemirror_mode": {
    "name": "ipython",
    "version": 3
   },
   "file_extension": ".py",
   "mimetype": "text/x-python",
   "name": "python",
   "nbconvert_exporter": "python",
   "pygments_lexer": "ipython3",
   "version": "3.9.1"
  },
  "vscode": {
   "interpreter": {
    "hash": "aee8b7b246df8f9039afb4144a1f6fd8d2ca17a180786b69acc140d282b71a49"
   }
  }
 },
 "nbformat": 4,
 "nbformat_minor": 5
}
